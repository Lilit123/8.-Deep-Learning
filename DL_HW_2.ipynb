{
 "cells": [
  {
   "cell_type": "markdown",
   "metadata": {},
   "source": [
    "## Your task is to find a linear approximation of the function sqrt(1 + x), x belongs to  [0; 1]. \n",
    "#### Your homework should contain the following steps:"
   ]
  },
  {
   "cell_type": "markdown",
   "metadata": {},
   "source": [
    "### a) Generate N = 10,000 random numbers from [0; 1]: x1; x2; ... ; xN belong to [0; 1] ; and then obtain their labels: yi = sqrt(1 + xi), i = 1; 2; ... ;N."
   ]
  },
  {
   "cell_type": "code",
   "execution_count": 1,
   "metadata": {},
   "outputs": [],
   "source": [
    "# Import necessary libraries\n",
    "\n",
    "import random\n",
    "import numpy as np\n",
    "import pandas as pd\n",
    "\n",
    "import matplotlib.pyplot as plt\n",
    "%matplotlib inline\n",
    "\n",
    "from sklearn.metrics import mean_squared_error\n",
    "from sklearn.model_selection import train_test_split"
   ]
  },
  {
   "cell_type": "code",
   "execution_count": 2,
   "metadata": {},
   "outputs": [],
   "source": [
    "# 1. Get here the xi_s: 10,000 random numbers from [0,1]\n",
    "xi = np.random.rand(10000, 1)\n",
    "\n",
    "# 2. Find yi_s by giving the values of xi_s:\n",
    "yi = np.sqrt(1+xi)"
   ]
  },
  {
   "cell_type": "code",
   "execution_count": 3,
   "metadata": {},
   "outputs": [
    {
     "name": "stdout",
     "output_type": "stream",
     "text": [
      "[2.48405082e-05] [0.99984876]\n",
      "[[0.71975803]\n",
      " [0.20394347]\n",
      " [0.5100841 ]\n",
      " ...\n",
      " [0.5327756 ]\n",
      " [0.25913116]\n",
      " [0.53361408]]\n",
      "[[1.31139545]\n",
      " [1.09724358]\n",
      " [1.22885479]\n",
      " ...\n",
      " [1.23805315]\n",
      " [1.12211014]\n",
      " [1.23839173]]\n"
     ]
    }
   ],
   "source": [
    "print(min(xi), max(xi))\n",
    "print(xi)\n",
    "print(yi)"
   ]
  },
  {
   "cell_type": "code",
   "execution_count": 4,
   "metadata": {},
   "outputs": [
    {
     "name": "stdout",
     "output_type": "stream",
     "text": [
      "[[0.36486437]\n",
      " [0.92666005]\n",
      " [0.41356726]\n",
      " ...\n",
      " [0.24279077]\n",
      " [0.38964905]\n",
      " [0.30140785]]\n"
     ]
    }
   ],
   "source": [
    "# Train, test and validation sets split\n",
    "\n",
    "train_ratio = 0.60\n",
    "validation_ratio = 0.20\n",
    "test_ratio = 0.20\n",
    "\n",
    "x_train, x_test, y_train, y_test = train_test_split(xi, yi, test_size=1 - train_ratio)\n",
    "\n",
    "x_val, x_test, y_val, y_test = train_test_split(x_test, y_test, test_size=test_ratio/(test_ratio + validation_ratio)) \n",
    "\n",
    "print(x_train)"
   ]
  },
  {
   "cell_type": "markdown",
   "metadata": {},
   "source": [
    "### b) Do linear regression on your generated data using Stochastic Gradient Descent (implement yourself)."
   ]
  },
  {
   "cell_type": "code",
   "execution_count": 5,
   "metadata": {},
   "outputs": [],
   "source": [
    "X_df = pd.DataFrame(x_train)\n",
    "y_df = pd.DataFrame(y_train)\n",
    "\n",
    "## Length, or number of observations, in our data\n",
    "m = len(y_df)"
   ]
  },
  {
   "cell_type": "code",
   "execution_count": 6,
   "metadata": {},
   "outputs": [
    {
     "data": {
      "image/png": "[encoded data removed]",
      "text/plain": [
       "<Figure size 360x288 with 1 Axes>"
      ]
     },
     "metadata": {
      "needs_background": "light"
     },
     "output_type": "display_data"
    }
   ],
   "source": [
    "plt.figure(figsize=(5,4))\n",
    "plt.plot(X_df, y_df, 'kx')\n",
    "plt.xlabel('x')\n",
    "plt.ylabel('y');"
   ]
  },
  {
   "cell_type": "code",
   "execution_count": 7,
   "metadata": {},
   "outputs": [],
   "source": [
    "## Add a columns of 1s as intercept to X\n",
    "X_df['Intercept'] = 1\n",
    "\n",
    "## Transform to Numpy arrays for easier matrix math and start w at 0\n",
    "X = np.array(X_df)\n",
    "y = np.array(y_df).flatten()\n",
    "w = np.array([0, 0])"
   ]
  },
  {
   "cell_type": "code",
   "execution_count": 8,
   "metadata": {},
   "outputs": [
    {
     "data": {
      "text/plain": [
       "array([[0.36486437, 1.        ],\n",
       "       [0.92666005, 1.        ],\n",
       "       [0.41356726, 1.        ],\n",
       "       ...,\n",
       "       [0.24279077, 1.        ],\n",
       "       [0.38964905, 1.        ],\n",
       "       [0.30140785, 1.        ]])"
      ]
     },
     "execution_count": 8,
     "metadata": {},
     "output_type": "execute_result"
    }
   ],
   "source": [
    "X"
   ]
  },
  {
   "cell_type": "code",
   "execution_count": 9,
   "metadata": {},
   "outputs": [
    {
     "data": {
      "text/plain": [
       "array([[0.36486437],\n",
       "       [0.92666005],\n",
       "       [0.41356726],\n",
       "       ...,\n",
       "       [0.24279077],\n",
       "       [0.38964905],\n",
       "       [0.30140785]])"
      ]
     },
     "execution_count": 9,
     "metadata": {},
     "output_type": "execute_result"
    }
   ],
   "source": [
    "x_train"
   ]
  },
  {
   "cell_type": "code",
   "execution_count": 10,
   "metadata": {},
   "outputs": [],
   "source": [
    "iterations = 1000\n",
    "alpha = 0.01"
   ]
  },
  {
   "cell_type": "markdown",
   "metadata": {},
   "source": [
    "SGD algorithm is the following:\n",
    "\n",
    "1. Choose an initial vector of parameters w and learning rate alpha\n",
    "2. Repeat until an approximate minimum is obtained:\n",
    "       2.2 Everytime before starting, we need to shuffle the data \n",
    "       2.3 Then update our w."
   ]
  },
  {
   "cell_type": "code",
   "execution_count": 11,
   "metadata": {},
   "outputs": [],
   "source": [
    "# Let's define the function for calculating loss \n",
    "\n",
    "def grad_loss(X, y, w):\n",
    "    \n",
    "    y_pred = np.dot(X, w)\n",
    "    error = y_pred - y\n",
    "    loss_gradient = (np.dot(X.T, error))/(len(X))\n",
    "    \n",
    "    return loss_gradient"
   ]
  },
  {
   "cell_type": "code",
   "execution_count": 12,
   "metadata": {},
   "outputs": [],
   "source": [
    "# We need to follow the algorithm: shuffle the data, continue the loop until minimum is obtained:\n",
    "\n",
    "def _iter(X, y, batch_size: int=1):\n",
    "    \n",
    "    n_observations = X.shape[0]\n",
    "    idx = list(range(n_observations))\n",
    "    random.shuffle(idx)\n",
    "    \n",
    "    for batch_id, i in enumerate(range(0, n_observations, batch_size)):\n",
    "        _pos = np.array(idx[i: min(i + batch_size, n_observations)])\n",
    "        yield batch_id, X.take(_pos, axis=0), y.take(_pos)"
   ]
  },
  {
   "cell_type": "code",
   "execution_count": 13,
   "metadata": {},
   "outputs": [],
   "source": [
    "def SGD(X, y, learning_rate, n_epochs, batch_size=1):\n",
    "    mse_log = []\n",
    "    w_log = []\n",
    "    total_loss_log = []\n",
    "    np.random.seed(444)\n",
    "    w = np.random.rand(len(X[0]))\n",
    "    \n",
    "    for i in range(n_epochs+1):\n",
    "        total_error = 0\n",
    "        \n",
    "        for batch_id, data, label in _iter(X, y, batch_size):\n",
    "            grad_loss_= grad_loss(data, label, w)\n",
    "            w = w - learning_rate * grad_loss_\n",
    "\n",
    "        y_pred = np.dot(X, w)\n",
    "        _mse = mean_squared_error(y, y_pred)\n",
    "        mse_log.append(_mse)\n",
    "        w_log.append(w)\n",
    "        if i % 100 == 0:\n",
    "            print(f'Epoch: {i} | MSE: {_mse}')\n",
    "\n",
    "    return w, w_log, mse_log"
   ]
  },
  {
   "cell_type": "code",
   "execution_count": 14,
   "metadata": {},
   "outputs": [
    {
     "name": "stdout",
     "output_type": "stream",
     "text": [
      "Epoch: 0 | MSE: 3.3073970268398734e-05\n",
      "Epoch: 100 | MSE: 2.7396199920189114e-05\n",
      "Epoch: 200 | MSE: 2.746707469122632e-05\n",
      "Epoch: 300 | MSE: 2.757029130681781e-05\n",
      "Epoch: 400 | MSE: 2.7450599250456064e-05\n",
      "Epoch: 500 | MSE: 2.7389203619276464e-05\n",
      "Epoch: 600 | MSE: 2.7389507020022536e-05\n",
      "Epoch: 700 | MSE: 2.7388363028293478e-05\n",
      "Epoch: 800 | MSE: 2.763738067456997e-05\n",
      "Epoch: 900 | MSE: 2.8094566867143702e-05\n",
      "Epoch: 1000 | MSE: 2.74923613072382e-05\n"
     ]
    }
   ],
   "source": [
    "w, _, mse_ = SGD(X, y, learning_rate=alpha, n_epochs=iterations, batch_size=1)"
   ]
  },
  {
   "cell_type": "code",
   "execution_count": 15,
   "metadata": {},
   "outputs": [
    {
     "data": {
      "text/plain": [
       "array([0.41162827, 1.01280462])"
      ]
     },
     "execution_count": 15,
     "metadata": {},
     "output_type": "execute_result"
    }
   ],
   "source": [
    "w"
   ]
  },
  {
   "cell_type": "markdown",
   "metadata": {},
   "source": [
    "### c) Do linear regression on your generated data using Mini-Batch Gradient Descent (implement yourself)."
   ]
  },
  {
   "cell_type": "markdown",
   "metadata": {},
   "source": [
    "Choose an initial vector of parametrs w, learning rate alpha, and batch size B:\n",
    "So we can just change the B - the number of batches in the previous case (SGD) and the rest is the same logic.\n",
    "In case of B batches we will take 100 to 100 of losses untill the minimum is obtained.\n",
    "For this case I took 60 (training dataset consists of 6000 datapoints)."
   ]
  },
  {
   "cell_type": "code",
   "execution_count": 16,
   "metadata": {},
   "outputs": [
    {
     "name": "stdout",
     "output_type": "stream",
     "text": [
      "Epoch: 0 | MSE: 0.01272952943348829\n",
      "Epoch: 100 | MSE: 2.740172586496152e-05\n",
      "Epoch: 200 | MSE: 2.7377826822790514e-05\n",
      "Epoch: 300 | MSE: 2.7378014650229886e-05\n",
      "Epoch: 400 | MSE: 2.7377926665640762e-05\n",
      "Epoch: 500 | MSE: 2.7377731605729742e-05\n",
      "Epoch: 600 | MSE: 2.737777173511595e-05\n",
      "Epoch: 700 | MSE: 2.737954271647911e-05\n",
      "Epoch: 800 | MSE: 2.737887890632044e-05\n",
      "Epoch: 900 | MSE: 2.7377692373947826e-05\n",
      "Epoch: 1000 | MSE: 2.737784881249861e-05\n"
     ]
    }
   ],
   "source": [
    "w_mini, _mini, mse_mini = SGD(X, y, learning_rate=alpha, n_epochs=iterations, batch_size=60)"
   ]
  },
  {
   "cell_type": "code",
   "execution_count": 17,
   "metadata": {},
   "outputs": [
    {
     "data": {
      "text/plain": [
       "array([0.41191908, 1.01300049])"
      ]
     },
     "execution_count": 17,
     "metadata": {},
     "output_type": "execute_result"
    }
   ],
   "source": [
    "w_mini"
   ]
  },
  {
   "cell_type": "code",
   "execution_count": 18,
   "metadata": {},
   "outputs": [
    {
     "data": {
      "image/png": "[encoded data removed]",
      "text/plain": [
       "<Figure size 432x288 with 1 Axes>"
      ]
     },
     "metadata": {
      "needs_background": "light"
     },
     "output_type": "display_data"
    }
   ],
   "source": [
    "#Plot the mse function for Mini-Batch Gradient Descent\n",
    "plt.title('Mini-Batch GD: MSE at each epoch')\n",
    "plt.xlabel('epochs')\n",
    "plt.ylabel('MSE')\n",
    "plt.plot(mse_mini)\n",
    "plt.show()"
   ]
  },
  {
   "cell_type": "markdown",
   "metadata": {},
   "source": [
    "### e) Sketch the graphs of all approximations on one graph."
   ]
  },
  {
   "cell_type": "code",
   "execution_count": 19,
   "metadata": {},
   "outputs": [
    {
     "data": {
      "text/plain": [
       "array([1.16329508, 1.39470945, 1.18335673, ..., 1.11301064, 1.17350437,\n",
       "       1.13715613])"
      ]
     },
     "execution_count": 19,
     "metadata": {},
     "output_type": "execute_result"
    }
   ],
   "source": [
    "# Results of each model\n",
    "\n",
    "First_SGD = np.dot(X,w)\n",
    "First_SGD\n",
    "\n",
    "Second_MBGD = np.dot(X,w_mini)\n",
    "Second_MBGD"
   ]
  },
  {
   "cell_type": "code",
   "execution_count": 20,
   "metadata": {},
   "outputs": [
    {
     "data": {
      "image/png": "[encoded data removed]",
      "text/plain": [
       "<Figure size 432x288 with 1 Axes>"
      ]
     },
     "metadata": {
      "needs_background": "light"
     },
     "output_type": "display_data"
    }
   ],
   "source": [
    "plt.plot(x_train, First_SGD)\n",
    "plt.plot(x_train, Second_MBGD);"
   ]
  },
  {
   "cell_type": "markdown",
   "metadata": {},
   "source": [
    "These two lines(green and orange lines) intersect in all points, it's because the w's are almost the same.\n",
    "Let's see what will happen in case of Taylor approximation."
   ]
  },
  {
   "cell_type": "markdown",
   "metadata": {},
   "source": [
    "### f) Compare all solutions with the First degree Taylor approximation of the function sqrt(1 + x)."
   ]
  },
  {
   "cell_type": "markdown",
   "metadata": {},
   "source": [
    "The first degree Taylor approximation is equal to y = 1 + (1/2)*x"
   ]
  },
  {
   "cell_type": "code",
   "execution_count": 21,
   "metadata": {},
   "outputs": [],
   "source": [
    "# 1. Get here the xi_s: 10,000 random numbers from [0,1]\n",
    "Taylor_xi = np.random.rand(10000, 1)\n",
    "\n",
    "# 2. Find yi_s by giving the values of xi_s:\n",
    "Taylor_yi = 1 + (1/2) * Taylor_xi"
   ]
  },
  {
   "cell_type": "code",
   "execution_count": 22,
   "metadata": {},
   "outputs": [
    {
     "name": "stdout",
     "output_type": "stream",
     "text": [
      "[1.38912807e-05] [0.99986935]\n",
      "[[0.64220716]\n",
      " [0.66722262]\n",
      " [0.03913991]\n",
      " ...\n",
      " [0.10072202]\n",
      " [0.32905181]\n",
      " [0.07839173]]\n",
      "[[1.32110358]\n",
      " [1.33361131]\n",
      " [1.01956995]\n",
      " ...\n",
      " [1.05036101]\n",
      " [1.16452591]\n",
      " [1.03919586]]\n"
     ]
    }
   ],
   "source": [
    "print(min(Taylor_xi), max(Taylor_xi))\n",
    "print(Taylor_xi)\n",
    "print(Taylor_yi)"
   ]
  },
  {
   "cell_type": "code",
   "execution_count": 23,
   "metadata": {},
   "outputs": [
    {
     "name": "stdout",
     "output_type": "stream",
     "text": [
      "[[0.43421188]\n",
      " [0.46702402]\n",
      " [0.94936443]\n",
      " ...\n",
      " [0.15044597]\n",
      " [0.3354385 ]\n",
      " [0.53720321]]\n"
     ]
    }
   ],
   "source": [
    "# Train, test and validation sets split\n",
    "\n",
    "train_ratio = 0.60\n",
    "validation_ratio = 0.20\n",
    "test_ratio = 0.20\n",
    "\n",
    "Taylor_x_train, Taylor_x_test, Taylor_y_train, Taylor_y_test = train_test_split(Taylor_xi, \n",
    "                                                                                Taylor_yi, test_size=1 - train_ratio)\n",
    "\n",
    "Taylor_x_val, Taylor_x_test, Taylor_y_val, Taylor_y_test = train_test_split(\n",
    "    Taylor_x_test, Taylor_y_test, test_size = test_ratio/(test_ratio + validation_ratio)) \n",
    "\n",
    "print(Taylor_x_train)"
   ]
  },
  {
   "cell_type": "markdown",
   "metadata": {},
   "source": [
    "### Taylor's b)"
   ]
  },
  {
   "cell_type": "code",
   "execution_count": 24,
   "metadata": {},
   "outputs": [],
   "source": [
    "Taylor_X_df = pd.DataFrame(Taylor_x_train)\n",
    "Taylor_y_df = pd.DataFrame(Taylor_y_train)\n",
    "\n",
    "## Length, or number of observations, in our data\n",
    "m = len(Taylor_y_df)"
   ]
  },
  {
   "cell_type": "code",
   "execution_count": 25,
   "metadata": {},
   "outputs": [
    {
     "data": {
      "image/png": "[encoded data removed]",
      "text/plain": [
       "<Figure size 360x288 with 1 Axes>"
      ]
     },
     "metadata": {
      "needs_background": "light"
     },
     "output_type": "display_data"
    }
   ],
   "source": [
    "plt.figure(figsize=(5,4))\n",
    "plt.plot(Taylor_X_df, Taylor_y_df, 'kx')\n",
    "plt.xlabel('x')\n",
    "plt.ylabel('y');"
   ]
  },
  {
   "cell_type": "code",
   "execution_count": 26,
   "metadata": {},
   "outputs": [],
   "source": [
    "## Add a columns of 1s as intercept to X\n",
    "Taylor_X_df['Intercept'] = 1\n",
    "\n",
    "## Transform to Numpy arrays for easier matrix math and start w at 0\n",
    "Taylor_X = np.array(Taylor_X_df)\n",
    "Taylor_y = np.array(Taylor_y_df).flatten()\n",
    "w = np.array([0, 0])"
   ]
  },
  {
   "cell_type": "code",
   "execution_count": 27,
   "metadata": {},
   "outputs": [],
   "source": [
    "iterations = 1000\n",
    "alpha = 0.01"
   ]
  },
  {
   "cell_type": "code",
   "execution_count": 28,
   "metadata": {},
   "outputs": [
    {
     "name": "stdout",
     "output_type": "stream",
     "text": [
      "Epoch: 0 | MSE: 3.460874153269746e-06\n",
      "Epoch: 100 | MSE: 1.013907308608484e-29\n",
      "Epoch: 200 | MSE: 1.013907308608484e-29\n",
      "Epoch: 300 | MSE: 1.013907308608484e-29\n",
      "Epoch: 400 | MSE: 1.013907308608484e-29\n",
      "Epoch: 500 | MSE: 1.013907308608484e-29\n",
      "Epoch: 600 | MSE: 1.013907308608484e-29\n",
      "Epoch: 700 | MSE: 1.013907308608484e-29\n",
      "Epoch: 800 | MSE: 1.013907308608484e-29\n",
      "Epoch: 900 | MSE: 1.013907308608484e-29\n",
      "Epoch: 1000 | MSE: 1.013907308608484e-29\n"
     ]
    }
   ],
   "source": [
    "Taylor_w, Taylor__, Taylor_mse_ = SGD(Taylor_X, Taylor_y, learning_rate=alpha, n_epochs=iterations, batch_size=1)"
   ]
  },
  {
   "cell_type": "code",
   "execution_count": 29,
   "metadata": {},
   "outputs": [
    {
     "data": {
      "text/plain": [
       "array([0.5, 1. ])"
      ]
     },
     "execution_count": 29,
     "metadata": {},
     "output_type": "execute_result"
    }
   ],
   "source": [
    "Taylor_w"
   ]
  },
  {
   "cell_type": "markdown",
   "metadata": {},
   "source": [
    "### Taylor's c)"
   ]
  },
  {
   "cell_type": "code",
   "execution_count": 30,
   "metadata": {},
   "outputs": [
    {
     "name": "stdout",
     "output_type": "stream",
     "text": [
      "Epoch: 0 | MSE: 0.008555655214890238\n",
      "Epoch: 100 | MSE: 1.4452105807165038e-08\n",
      "Epoch: 200 | MSE: 2.441291900230155e-14\n",
      "Epoch: 300 | MSE: 4.1240553261161957e-20\n",
      "Epoch: 400 | MSE: 6.956400219393271e-26\n",
      "Epoch: 500 | MSE: 1.7380761961826495e-28\n",
      "Epoch: 600 | MSE: 1.4228435984978288e-28\n",
      "Epoch: 700 | MSE: 1.2885203078613212e-28\n",
      "Epoch: 800 | MSE: 1.24704027583157e-28\n",
      "Epoch: 900 | MSE: 1.2146058488483534e-28\n",
      "Epoch: 1000 | MSE: 1.2038480869454457e-28\n"
     ]
    }
   ],
   "source": [
    "Taylor_w_mini, Taylor__mini, Taylor_mse_mini = SGD(Taylor_X, Taylor_y, learning_rate=alpha, \n",
    "                                                   n_epochs=iterations, batch_size=60)"
   ]
  },
  {
   "cell_type": "code",
   "execution_count": 31,
   "metadata": {},
   "outputs": [
    {
     "data": {
      "text/plain": [
       "array([0.5, 1. ])"
      ]
     },
     "execution_count": 31,
     "metadata": {},
     "output_type": "execute_result"
    }
   ],
   "source": [
    "Taylor_w_mini"
   ]
  },
  {
   "cell_type": "markdown",
   "metadata": {},
   "source": [
    "### Taylor's e)"
   ]
  },
  {
   "cell_type": "code",
   "execution_count": 32,
   "metadata": {},
   "outputs": [
    {
     "data": {
      "text/plain": [
       "array([1.21710594, 1.23351201, 1.47468221, ..., 1.07522298, 1.16771925,\n",
       "       1.26860161])"
      ]
     },
     "execution_count": 32,
     "metadata": {},
     "output_type": "execute_result"
    }
   ],
   "source": [
    "# Results of each model\n",
    "\n",
    "Taylor_First_SGD = np.dot(Taylor_X,Taylor_w)\n",
    "Taylor_First_SGD\n",
    "\n",
    "Taylor_Second_MBGD = np.dot(Taylor_X,Taylor_w_mini)\n",
    "Taylor_Second_MBGD"
   ]
  },
  {
   "cell_type": "code",
   "execution_count": 36,
   "metadata": {},
   "outputs": [
    {
     "data": {
      "image/png": "[encoded data removed]",
      "text/plain": [
       "<Figure size 432x288 with 1 Axes>"
      ]
     },
     "metadata": {
      "needs_background": "light"
     },
     "output_type": "display_data"
    }
   ],
   "source": [
    "plt.plot(Taylor_x_train, Taylor_First_SGD)\n",
    "plt.plot(Taylor_x_train, Taylor_Second_MBGD)\n",
    "plt.plot(x_train, First_SGD)\n",
    "plt.plot(x_train, Second_MBGD);"
   ]
  },
  {
   "cell_type": "markdown",
   "metadata": {},
   "source": [
    "The Orange line is the Taylor's approximation for both SGD and mini-batch GD, the red line is for the previous case, where the function was the initial one, i.e. sqrt(1+x)"
   ]
  },
  {
   "cell_type": "markdown",
   "metadata": {},
   "source": [
    "So, let's see the results.\n",
    "In case of sqrt(1+x) function approximation we performed linear regression using 2 models: \n",
    "\n",
    "1. Stochastic Gradient Descent (SGD), \n",
    "2. Mini-Batch Gradient Descent\n",
    "\n",
    "For the 1. and 2. we got almost the same w0 and w1 weights: (SGD case) w0 = 1.01280462, w1 = 0.41162827 (this is for mini-batch GD case: w0 = 1.01300049, w1 = 0.41191908), which are much closer to the results of the 1st HW in case of doing Linear Regression by using the methods Closed form solution and \"sklear\" library. \n",
    "\n",
    "As we know that the First degree Taylor's approximation of the function sqrt(1+x) = 1 + (1/2)*x.\n",
    "Let's see what we have in case of this approximation:\n",
    "\n",
    "For 1. and 2. cases the w0 and w1 are w0 = 1. , w1 = 0.5. For both of them the results are the same but the performance in Mini-Batch GD is better than in SGD. It's because of the fact that by adding batches (for this case it's 60) our model starts to converge to the minimum point faster than in case of SGD. And as you can see the results are the same.\n",
    "\n",
    "In case of 1. and 2. for the sqrt(1+x) function we don't get the 0.5 for the slope weight, but we can say that it's almost closser to the 0.5 (SGD and MBGD's outputs are different starting from the 3th number)."
   ]
  },
  {
   "cell_type": "code",
   "execution_count": null,
   "metadata": {},
   "outputs": [],
   "source": []
  }
 ],
 "metadata": {
  "kernelspec": {
   "display_name": "Python 3.7.4 64-bit ('base': conda)",
   "language": "python",
   "name": "python37464bitbaseconda3eef230582e84ea2ab2fabf2bc443ec5"
  },
  "language_info": {
   "codemirror_mode": {
    "name": "ipython",
    "version": 3
   },
   "file_extension": ".py",
   "mimetype": "text/x-python",
   "name": "python",
   "nbconvert_exporter": "python",
   "pygments_lexer": "ipython3",
   "version": "3.7.4"
  }
 },
 "nbformat": 4,
 "nbformat_minor": 2
}
