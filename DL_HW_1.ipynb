{
 "cells": [
  {
   "cell_type": "markdown",
   "metadata": {},
   "source": [
    "## Your task is to find a linear approximation of the function sqrt(1 + x), x belongs to  [0; 1]. \n",
    "#### Your homework should contain the following steps:"
   ]
  },
  {
   "cell_type": "markdown",
   "metadata": {},
   "source": [
    "### a) Generate N = 10,000 random numbers from [0; 1]: x1; x2; ... ; xN belong to [0; 1] ; and then obtain their labels: yi = sqrt(1 + xi), i = 1; 2; ... ;N."
   ]
  },
  {
   "cell_type": "code",
   "execution_count": 1,
   "metadata": {},
   "outputs": [],
   "source": [
    "# Import necessary libraries\n",
    "\n",
    "import random\n",
    "import numpy as np\n",
    "import pandas as pd\n",
    "\n",
    "import statsmodels.api as sm\n",
    "\n",
    "import matplotlib.pyplot as plt\n",
    "%matplotlib inline\n",
    "\n",
    "from sklearn.metrics import mean_squared_error\n",
    "from sklearn.model_selection import train_test_split\n",
    "from sklearn.linear_model import LinearRegression"
   ]
  },
  {
   "cell_type": "code",
   "execution_count": 2,
   "metadata": {},
   "outputs": [],
   "source": [
    "# 1. Get here the xi_s: 10,000 random numbers from [0,1]\n",
    "xi = np.random.rand(10000, 1)\n",
    "\n",
    "# 2. Find yi_s by giving the values of xi_s:\n",
    "yi = np.sqrt(1+xi)"
   ]
  },
  {
   "cell_type": "code",
   "execution_count": 3,
   "metadata": {},
   "outputs": [
    {
     "name": "stdout",
     "output_type": "stream",
     "text": [
      "[0.00012576] [0.99982749]\n",
      "[[0.08982723]\n",
      " [0.829545  ]\n",
      " [0.31702383]\n",
      " ...\n",
      " [0.52254122]\n",
      " [0.75094767]\n",
      " [0.28553974]]\n",
      "[[1.04394791]\n",
      " [1.35260674]\n",
      " [1.14761658]\n",
      " ...\n",
      " [1.23391297]\n",
      " [1.32323379]\n",
      " [1.13381645]]\n"
     ]
    }
   ],
   "source": [
    "print(min(xi), max(xi))\n",
    "print(xi)\n",
    "print(yi)"
   ]
  },
  {
   "cell_type": "code",
   "execution_count": 4,
   "metadata": {},
   "outputs": [
    {
     "name": "stdout",
     "output_type": "stream",
     "text": [
      "[[0.37664075]\n",
      " [0.72595895]\n",
      " [0.34383905]\n",
      " ...\n",
      " [0.05672661]\n",
      " [0.25708014]\n",
      " [0.76846451]]\n"
     ]
    }
   ],
   "source": [
    "# Train, test and validation sets split\n",
    "\n",
    "train_ratio = 0.60\n",
    "validation_ratio = 0.20\n",
    "test_ratio = 0.20\n",
    "\n",
    "x_train, x_test, y_train, y_test = train_test_split(xi, yi, test_size=1 - train_ratio)\n",
    "\n",
    "x_val, x_test, y_val, y_test = train_test_split(x_test, y_test, test_size=test_ratio/(test_ratio + validation_ratio)) \n",
    "\n",
    "print(x_train)"
   ]
  },
  {
   "cell_type": "markdown",
   "metadata": {},
   "source": [
    "### b) Do linear regression on your generated data using the Closed Form Solution."
   ]
  },
  {
   "cell_type": "code",
   "execution_count": 5,
   "metadata": {},
   "outputs": [
    {
     "data": {
      "text/plain": [
       "array([[1.        , 0.37664075],\n",
       "       [1.        , 0.72595895],\n",
       "       [1.        , 0.34383905],\n",
       "       ...,\n",
       "       [1.        , 0.05672661],\n",
       "       [1.        , 0.25708014],\n",
       "       [1.        , 0.76846451]])"
      ]
     },
     "execution_count": 5,
     "metadata": {},
     "output_type": "execute_result"
    }
   ],
   "source": [
    "# Add constant for intercept\n",
    "\n",
    "x_int = sm.add_constant(x_train)\n",
    "x_int"
   ]
  },
  {
   "cell_type": "code",
   "execution_count": 6,
   "metadata": {},
   "outputs": [
    {
     "name": "stdout",
     "output_type": "stream",
     "text": [
      "[[1.01315437]\n",
      " [0.41147008]]\n"
     ]
    }
   ],
   "source": [
    "# 1. Closed form solution with Manual matrix multiplication:\n",
    "\n",
    "First = np.dot(np.linalg.inv(np.dot(x_int.T, x_int)), np.dot(x_int.T, y_train))\n",
    "print(First)"
   ]
  },
  {
   "cell_type": "code",
   "execution_count": 7,
   "metadata": {},
   "outputs": [
    {
     "name": "stdout",
     "output_type": "stream",
     "text": [
      "[1.01315437 0.41147008]\n"
     ]
    }
   ],
   "source": [
    "# 2. Closed form solution using \"statsmodels\" library:\n",
    "\n",
    "Second = sm.OLS(y_train, x_int).fit()\n",
    "print(f'{Second.params}')"
   ]
  },
  {
   "cell_type": "markdown",
   "metadata": {},
   "source": [
    "### c) Do linear regression on your generated data using the Library Sklearn."
   ]
  },
  {
   "cell_type": "code",
   "execution_count": 8,
   "metadata": {},
   "outputs": [
    {
     "name": "stdout",
     "output_type": "stream",
     "text": [
      "Intercept: [1.01315437], coeff: [[0.41147008]]\n"
     ]
    }
   ],
   "source": [
    "# 3. Linear Regression using \"sklearn\" library:\n",
    "\n",
    "from sklearn.linear_model import LinearRegression\n",
    "\n",
    "regressor = LinearRegression()\n",
    "regressor.fit(x_train, y_train)\n",
    "\n",
    "print(f'Intercept: {regressor.intercept_}, coeff: {regressor.coef_}')"
   ]
  },
  {
   "cell_type": "markdown",
   "metadata": {},
   "source": [
    "### d) Do linear regression on your generated data implementing the Gradient Descent algorithm by yourself."
   ]
  },
  {
   "cell_type": "code",
   "execution_count": 9,
   "metadata": {},
   "outputs": [],
   "source": [
    "X_df = pd.DataFrame(x_train)\n",
    "y_df = pd.DataFrame(y_train)\n",
    "\n",
    "## Length, or number of observations, in our data\n",
    "m = len(y_df)"
   ]
  },
  {
   "cell_type": "code",
   "execution_count": 10,
   "metadata": {},
   "outputs": [
    {
     "data": {
      "image/png": "[encoded data removed]",
      "text/plain": [
       "<Figure size 360x288 with 1 Axes>"
      ]
     },
     "metadata": {
      "needs_background": "light"
     },
     "output_type": "display_data"
    }
   ],
   "source": [
    "plt.figure(figsize=(5,4))\n",
    "plt.plot(X_df, y_df, 'kx')\n",
    "plt.xlabel('x')\n",
    "plt.ylabel('y');"
   ]
  },
  {
   "cell_type": "code",
   "execution_count": 11,
   "metadata": {},
   "outputs": [],
   "source": [
    "## Add a columns of 1s as intercept to X\n",
    "X_df['Intercept'] = 1\n",
    "\n",
    "## Transform to Numpy arrays for easier matrix math and start w at 0\n",
    "X = np.array(X_df)\n",
    "y = np.array(y_df).flatten()\n",
    "w = np.array([0, 0])"
   ]
  },
  {
   "cell_type": "code",
   "execution_count": 12,
   "metadata": {},
   "outputs": [],
   "source": [
    "iterations = 3500\n",
    "alpha = 0.01"
   ]
  },
  {
   "cell_type": "code",
   "execution_count": 13,
   "metadata": {},
   "outputs": [
    {
     "name": "stdout",
     "output_type": "stream",
     "text": [
      "Iter 0 | L: 0.05454240377202647 | w: [1. 1.]\n",
      "Iter 100 | L: 0.011524498282619741 | w: [0.87891334 0.84609368]\n",
      "Iter 200 | L: 0.007284311648136309 | w: [0.82570432 0.81373577]\n",
      "Iter 300 | L: 0.0061627173202723215 | w: [0.79264601 0.81454591]\n",
      "Iter 400 | L: 0.005381442437772769 | w: [0.76636972 0.82396024]\n",
      "Iter 500 | L: 0.0047128632458598345 | w: [0.74307804 0.83518007]\n",
      "Iter 600 | L: 0.004128604449505975 | w: [0.72164328 0.84635041]\n",
      "Iter 700 | L: 0.003617070288610351 | w: [0.7016856  0.85699024]\n",
      "Iter 800 | L: 0.0031691338066333857 | w: [0.68303756 0.86699881]\n",
      "Iter 900 | L: 0.0027768822834847444 | w: [0.66559487 0.87637912]\n",
      "Iter 1000 | L: 0.002433392827583642 | w: [0.6492745  0.88516108]\n",
      "Iter 1100 | L: 0.0021326036323838487 | w: [0.6340028 0.8933802]\n",
      "Iter 1200 | L: 0.0018692064907216905 | w: [0.619712  0.9010718]\n",
      "Iter 1300 | L: 0.001638553078279117 | w: [0.60633898 0.90826956]\n",
      "Iter 1400 | L: 0.0014365729188136492 | w: [0.59382477 0.9150051 ]\n",
      "Iter 1500 | L: 0.0012597015498364108 | w: [0.58211421 0.92130811]\n",
      "Iter 1600 | L: 0.0011048176184310255 | w: [0.57115568 0.92720634]\n",
      "Iter 1700 | L: 0.0009691877969041807 | w: [0.56090089 0.9327258 ]\n",
      "Iter 1800 | L: 0.000850418546146616 | w: [0.55130466 0.93789081]\n",
      "Iter 1900 | L: 0.0007464138754428308 | w: [0.54232468 0.94272413]\n",
      "Iter 2000 | L: 0.000655338353292039 | w: [0.53392138 0.94724706]\n",
      "Iter 2100 | L: 0.0005755847164706392 | w: [0.52605773 0.95147954]\n",
      "Iter 2200 | L: 0.0005057455057142276 | w: [0.51869907 0.95544021]\n",
      "Iter 2300 | L: 0.0004445882274574197 | w: [0.51181298 0.95914653]\n",
      "Iter 2400 | L: 0.0003910336032961282 | w: [0.5053691  0.96261484]\n",
      "Iter 2500 | L: 0.00034413652332776544 | w: [0.49933904 0.96586041]\n",
      "Iter 2600 | L: 0.0003030693672417588 | w: [0.49369622 0.96889757]\n",
      "Iter 2700 | L: 0.0002671073988179245 | w: [0.48841577 0.97173968]\n",
      "Iter 2800 | L: 0.00023561597608077507 | w: [0.48347442 0.97439927]\n",
      "Iter 2900 | L: 0.0002080393513998906 | w: [0.47885041 0.97688807]\n",
      "Iter 3000 | L: 0.000183890863885123 | w: [0.47452334 0.97921704]\n",
      "Iter 3100 | L: 0.00016274435099607084 | w: [0.47047415 0.98139644]\n",
      "Iter 3200 | L: 0.00014422662780146526 | w: [0.46668499 0.98343589]\n",
      "Iter 3300 | L: 0.00012801090116553522 | w: [0.46313916 0.98534437]\n",
      "Iter 3400 | L: 0.00011381100263763104 | w: [0.45982105 0.98713029]\n",
      "End Iter: L: 0.00010149269136453203 | w: [0.45671602 0.98880152]\n"
     ]
    }
   ],
   "source": [
    "def gradient_descent(learning_rate, X, y, iters: int, return_model_result: bool=True):\n",
    "   \n",
    "    mse_ = []\n",
    "    cost_ = []\n",
    "    w_ = []\n",
    "    \n",
    "    n = X.shape[0]\n",
    "    w = np.ones(X.shape[1])  # Default w0 and w1 ( weights )\n",
    "    \n",
    "    for i in range(0, iters):\n",
    "        predictions = np.dot(X, w)\n",
    "        loss = predictions - y\n",
    "        L = np.sum(loss ** 2) / (2 * n)  # cost result\n",
    "        if i % 100 == 0:\n",
    "            print(f'Iter {i} | L: {L} | w: {w}')\n",
    "            \n",
    "        gradient = np.dot(X.T, loss) / n  \n",
    "        y_pred = np.dot(X, w)\n",
    "        mse_.append(mean_squared_error(y, y_pred))\n",
    "        cost_.append(L)\n",
    "        w_.append(w)\n",
    "        w = w - learning_rate * gradient  # this is the part where we update weights\n",
    "        \n",
    "    print(f'End Iter: L: {L} | w: {w}')\n",
    "    y_pred = np.dot(X, w)\n",
    "    mse_.append(mean_squared_error(y, y_pred))\n",
    "    cost_.append(L)\n",
    "    w_.append(w)\n",
    "        \n",
    "    return cost_, w_, mse_\n",
    "\n",
    "\n",
    "#X_ = np.c_[np.ones(X.shape[0]), X]  # insert column\n",
    "_L, _w, _mse = gradient_descent(learning_rate=alpha, X=X, y=y, iters=iterations)"
   ]
  },
  {
   "cell_type": "code",
   "execution_count": 14,
   "metadata": {},
   "outputs": [
    {
     "data": {
      "text/plain": [
       "0.41233771127112645"
      ]
     },
     "execution_count": 14,
     "metadata": {},
     "output_type": "execute_result"
    }
   ],
   "source": [
    "# Results of each model\n",
    "\n",
    "First_Closed_Form = np.dot(X,First)\n",
    "First_Closed_Form\n",
    "\n",
    "Second_Closed_Form_2 = np.dot(X,Second.params)\n",
    "Second_Closed_Form_2\n",
    "\n",
    "Third = np.array([1.01286796, 0.41221033])\n",
    "Third\n",
    "Third_sklearn = np.dot(X,Third)\n",
    "Third_sklearn\n",
    "min(Third_sklearn)"
   ]
  },
  {
   "cell_type": "code",
   "execution_count": 15,
   "metadata": {},
   "outputs": [
    {
     "data": {
      "text/plain": [
       "array([1.1606639 , 1.32090912, 1.14561654, ..., 1.0139074 , 1.10581701,\n",
       "       1.340408  ])"
      ]
     },
     "execution_count": 15,
     "metadata": {},
     "output_type": "execute_result"
    }
   ],
   "source": [
    "Fourth = np.array([0.45873713, 0.9878848])\n",
    "\n",
    "Fourth_GD = np.dot(X,Fourth)\n",
    "Fourth_GD"
   ]
  },
  {
   "cell_type": "markdown",
   "metadata": {},
   "source": [
    "### e) Sketch the graphs of all approximations on one graph."
   ]
  },
  {
   "cell_type": "code",
   "execution_count": 16,
   "metadata": {},
   "outputs": [
    {
     "data": {
      "image/png": "[encoded data removed]",
      "text/plain": [
       "<Figure size 432x288 with 1 Axes>"
      ]
     },
     "metadata": {
      "needs_background": "light"
     },
     "output_type": "display_data"
    }
   ],
   "source": [
    "plt.plot(x_train, First_Closed_Form)\n",
    "plt.plot(x_train, Second_Closed_Form_2)\n",
    "plt.plot(x_train, Third_sklearn)\n",
    "plt.plot(x_train, Fourth_GD);"
   ]
  },
  {
   "cell_type": "code",
   "execution_count": 17,
   "metadata": {},
   "outputs": [
    {
     "data": {
      "image/png": "[encoded data removed]",
      "text/plain": [
       "<Figure size 432x288 with 1 Axes>"
      ]
     },
     "metadata": {
      "needs_background": "light"
     },
     "output_type": "display_data"
    }
   ],
   "source": [
    "#Plot the cost function for Gradient Descent\n",
    "plt.title('Cost Function L')\n",
    "plt.xlabel('No. of iterations')\n",
    "plt.ylabel('Cost')\n",
    "plt.plot(_L)\n",
    "plt.show()"
   ]
  },
  {
   "cell_type": "markdown",
   "metadata": {},
   "source": [
    "### f) Compare all solutions with the First degree Taylor approximation of the function sqrt(1 + x)."
   ]
  },
  {
   "cell_type": "code",
   "execution_count": 18,
   "metadata": {},
   "outputs": [],
   "source": [
    "# The first degree Taylor approximation is equal to y = 1 + (1/2)*x\n",
    "\n",
    "# 1. Get here the xi_s: 10,000 random numbers from [0,1]\n",
    "Taylor_xi = np.random.rand(10000, 1)\n",
    "\n",
    "# 2. Find yi_s by giving the values of xi_s:\n",
    "Taylor_yi = 1 + (1/2) * Taylor_xi"
   ]
  },
  {
   "cell_type": "code",
   "execution_count": 19,
   "metadata": {},
   "outputs": [
    {
     "name": "stdout",
     "output_type": "stream",
     "text": [
      "[7.09160479e-05] [0.99999057]\n",
      "[[0.52508068]\n",
      " [0.51707847]\n",
      " [0.1436234 ]\n",
      " ...\n",
      " [0.21723653]\n",
      " [0.30587268]\n",
      " [0.65827694]]\n",
      "[[1.26254034]\n",
      " [1.25853923]\n",
      " [1.0718117 ]\n",
      " ...\n",
      " [1.10861826]\n",
      " [1.15293634]\n",
      " [1.32913847]]\n"
     ]
    }
   ],
   "source": [
    "print(min(Taylor_xi), max(Taylor_xi))\n",
    "print(Taylor_xi)\n",
    "print(Taylor_yi)"
   ]
  },
  {
   "cell_type": "code",
   "execution_count": 20,
   "metadata": {},
   "outputs": [
    {
     "name": "stdout",
     "output_type": "stream",
     "text": [
      "[[0.27288101]\n",
      " [0.39403533]\n",
      " [0.57726621]\n",
      " ...\n",
      " [0.77448844]\n",
      " [0.905002  ]\n",
      " [0.747627  ]]\n"
     ]
    }
   ],
   "source": [
    "# Train, test and validation sets split\n",
    "\n",
    "train_ratio = 0.60\n",
    "validation_ratio = 0.20\n",
    "test_ratio = 0.20\n",
    "\n",
    "Taylor_x_train, Taylor_x_test, Taylor_y_train, Taylor_y_test = train_test_split(Taylor_xi, \n",
    "                                                                                Taylor_yi, test_size=1 - train_ratio)\n",
    "\n",
    "Taylor_x_val, Taylor_x_test, Taylor_y_val, Taylor_y_test = train_test_split(\n",
    "    Taylor_x_test, Taylor_y_test, test_size = test_ratio/(test_ratio + validation_ratio)) \n",
    "\n",
    "print(Taylor_x_train)"
   ]
  },
  {
   "cell_type": "markdown",
   "metadata": {},
   "source": [
    "### Taylor's b)"
   ]
  },
  {
   "cell_type": "code",
   "execution_count": 21,
   "metadata": {},
   "outputs": [
    {
     "data": {
      "text/plain": [
       "array([[1.        , 0.27288101],\n",
       "       [1.        , 0.39403533],\n",
       "       [1.        , 0.57726621],\n",
       "       ...,\n",
       "       [1.        , 0.77448844],\n",
       "       [1.        , 0.905002  ],\n",
       "       [1.        , 0.747627  ]])"
      ]
     },
     "execution_count": 21,
     "metadata": {},
     "output_type": "execute_result"
    }
   ],
   "source": [
    "import statsmodels.api as sm\n",
    "\n",
    "# Add constant for intercept\n",
    "\n",
    "Taylor_x_int = sm.add_constant(Taylor_x_train)\n",
    "Taylor_x_int"
   ]
  },
  {
   "cell_type": "code",
   "execution_count": 22,
   "metadata": {},
   "outputs": [
    {
     "name": "stdout",
     "output_type": "stream",
     "text": [
      "[[1. ]\n",
      " [0.5]]\n"
     ]
    }
   ],
   "source": [
    "# 1. Closed form solution with Manual matrix multiplication:\n",
    "\n",
    "Taylor_First = np.dot(np.linalg.inv(np.dot(Taylor_x_int.T, Taylor_x_int)), np.dot(Taylor_x_int.T, Taylor_y_train))\n",
    "print(Taylor_First)"
   ]
  },
  {
   "cell_type": "code",
   "execution_count": 23,
   "metadata": {},
   "outputs": [
    {
     "name": "stdout",
     "output_type": "stream",
     "text": [
      "[1.  0.5]\n"
     ]
    }
   ],
   "source": [
    "# 2. Closed form solution using \"statsmodels\" library:\n",
    "\n",
    "Taylor_Second = sm.OLS(Taylor_y_train, Taylor_x_int).fit()\n",
    "print(f'{Taylor_Second.params}')"
   ]
  },
  {
   "cell_type": "markdown",
   "metadata": {},
   "source": [
    "### Taylor's c)"
   ]
  },
  {
   "cell_type": "code",
   "execution_count": 24,
   "metadata": {},
   "outputs": [
    {
     "name": "stdout",
     "output_type": "stream",
     "text": [
      "Intercept: [1.], coeff: [[0.5]]\n"
     ]
    }
   ],
   "source": [
    "# 3. Linear Regression using \"sklearn\" library:\n",
    "\n",
    "Taylor_regressor = LinearRegression()\n",
    "Taylor_regressor.fit(Taylor_x_train, Taylor_y_train)\n",
    "\n",
    "print(f'Intercept: {Taylor_regressor.intercept_}, coeff: {Taylor_regressor.coef_}')"
   ]
  },
  {
   "cell_type": "markdown",
   "metadata": {},
   "source": [
    "### Taylor's d)"
   ]
  },
  {
   "cell_type": "code",
   "execution_count": 25,
   "metadata": {},
   "outputs": [],
   "source": [
    "Taylor_X_df = pd.DataFrame(Taylor_x_train)\n",
    "Taylor_y_df = pd.DataFrame(Taylor_y_train)\n",
    "\n",
    "## Length, or number of observations, in our data\n",
    "m = len(Taylor_y_df)"
   ]
  },
  {
   "cell_type": "code",
   "execution_count": 26,
   "metadata": {},
   "outputs": [
    {
     "data": {
      "image/png": "[encoded data removed]",
      "text/plain": [
       "<Figure size 360x288 with 1 Axes>"
      ]
     },
     "metadata": {
      "needs_background": "light"
     },
     "output_type": "display_data"
    }
   ],
   "source": [
    "plt.figure(figsize=(5,4))\n",
    "plt.plot(Taylor_X_df, Taylor_y_df, 'kx')\n",
    "plt.xlabel('x')\n",
    "plt.ylabel('y');"
   ]
  },
  {
   "cell_type": "code",
   "execution_count": 27,
   "metadata": {},
   "outputs": [],
   "source": [
    "## Add a columns of 1s as intercept to X\n",
    "Taylor_X_df['Intercept'] = 1\n",
    "\n",
    "## Transform to Numpy arrays for easier matrix math and start w at 0\n",
    "Taylor_X = np.array(Taylor_X_df)\n",
    "Taylor_y = np.array(Taylor_y_df).flatten()\n",
    "w = np.array([0, 0])"
   ]
  },
  {
   "cell_type": "code",
   "execution_count": 28,
   "metadata": {},
   "outputs": [
    {
     "name": "stdout",
     "output_type": "stream",
     "text": [
      "Iter 0 | L: 0.04174266328361421 | w: [1. 1.]\n",
      "Iter 100 | L: 0.00824821178376907 | w: [0.89512379 0.86270277]\n",
      "Iter 200 | L: 0.005042077909830539 | w: [0.84994667 0.83300291]\n",
      "Iter 300 | L: 0.004261254224883261 | w: [0.82240098 0.83275407]\n",
      "Iter 400 | L: 0.0037330432845804743 | w: [0.8007014  0.84021194]\n",
      "Iter 500 | L: 0.0032809468700953737 | w: [0.78150547 0.8493481 ]\n",
      "Iter 600 | L: 0.002884431546658493 | w: [0.76382719 0.85851184]\n",
      "Iter 700 | L: 0.0025359010753196764 | w: [0.74734066 0.8672706 ]\n",
      "Iter 800 | L: 0.002229489100387351 | w: [0.73190712 0.87552956]\n",
      "Iter 900 | L: 0.001960101157880532 | w: [0.71744293 0.88328642]\n",
      "Iter 1000 | L: 0.0017232632425643088 | w: [0.70388265 0.89056318]\n",
      "Iter 1100 | L: 0.0015150423210694717 | w: [0.69116851 0.89738716]\n",
      "Iter 1200 | L: 0.0013319806157587194 | w: [0.67924737 0.90378589]\n",
      "Iter 1300 | L: 0.001171038152601574 | w: [0.66806966 0.90978568]\n",
      "Iter 1400 | L: 0.0010295422760854811 | w: [0.65758899 0.91541135]\n",
      "Iter 1500 | L: 0.0009051432661630779 | w: [0.64776189 0.92068622]\n",
      "Iter 1600 | L: 0.000795775318130163 | w: [0.6385476  0.92563215]\n",
      "Iter 1700 | L: 0.0006996222372946096 | w: [0.62990791 0.93026966]\n",
      "Iter 1800 | L: 0.0006150872787399702 | w: [0.62180697 0.93461797]\n",
      "Iter 1900 | L: 0.000540766631333396 | w: [0.61421121 0.93869513]\n",
      "Iter 2000 | L: 0.000475426105645888 | w: [0.60708911 0.94251805]\n",
      "Iter 2100 | L: 0.00041798063865790014 | w: [0.60041113 0.94610257]\n",
      "Iter 2200 | L: 0.0003674762748997953 | w: [0.59414959 0.94946356]\n",
      "Iter 2300 | L: 0.00032307432480085143 | w: [0.58827851 0.95261496]\n",
      "Iter 2400 | L: 0.0002840374371760112 | w: [0.58277355 0.95556985]\n",
      "Iter 2500 | L: 0.0002497173545661594 | w: [0.57761187 0.95834047]\n",
      "Iter 2600 | L: 0.00021954414809368403 | w: [0.57277207 0.96093832]\n",
      "Iter 2700 | L: 0.00019301675306435906 | w: [0.56823407 0.96337417]\n",
      "Iter 2800 | L: 0.0001696946481470761 | w: [0.56397906 0.96565812]\n",
      "Iter 2900 | L: 0.0001491905399535885 | w: [0.55998939 0.96779965]\n",
      "Iter 3000 | L: 0.00013116393153632223 | w: [0.55624851 0.96980763]\n",
      "End Iter: L: 0.00011546406271312459 | w: [0.5527409 0.9716904]\n"
     ]
    }
   ],
   "source": [
    "def gradient_descent(learning_rate, X, y, iters: int, return_model_result: bool=True):\n",
    "   \n",
    "    mse_ = []\n",
    "    cost_ = []\n",
    "    w_ = []\n",
    "    \n",
    "    n = X.shape[0]\n",
    "    w = np.ones(X.shape[1])  # Default w0 and w1 ( weights )\n",
    "    \n",
    "    for i in range(0, iters):\n",
    "        predictions = np.dot(X, w)\n",
    "        loss = predictions - y\n",
    "        L = np.sum(loss ** 2) / (2 * n)  # cost result\n",
    "        if i % 100 == 0:\n",
    "            print(f'Iter {i} | L: {L} | w: {w}')\n",
    "            \n",
    "        gradient = np.dot(X.T, loss) / n  \n",
    "        y_pred = np.dot(X, w)\n",
    "        mse_.append(mean_squared_error(y, y_pred))\n",
    "        cost_.append(L)\n",
    "        w_.append(w)\n",
    "        w = w - learning_rate * gradient  # this is the part where we update weights\n",
    "        \n",
    "    print(f'End Iter: L: {L} | w: {w}')\n",
    "    y_pred = np.dot(X, w)\n",
    "    mse_.append(mean_squared_error(y, y_pred))\n",
    "    cost_.append(L)\n",
    "    w_.append(w)\n",
    "        \n",
    "    return cost_, w_, mse_\n",
    "\n",
    "\n",
    "#X_ = np.c_[np.ones(X.shape[0]), X]  # insert column\n",
    "_L, _w, _mse = gradient_descent(learning_rate=alpha, X=Taylor_X, y=Taylor_y, iters=3100)"
   ]
  },
  {
   "cell_type": "code",
   "execution_count": 29,
   "metadata": {},
   "outputs": [
    {
     "data": {
      "text/plain": [
       "0.5004248266439107"
      ]
     },
     "execution_count": 29,
     "metadata": {},
     "output_type": "execute_result"
    }
   ],
   "source": [
    "# Results of each model\n",
    "\n",
    "Taylor_First_Closed_Form = np.dot(Taylor_X,Taylor_First)\n",
    "Taylor_First_Closed_Form\n",
    "\n",
    "Taylor_Second_Closed_Form_2 = np.dot(Taylor_X,Taylor_Second.params)\n",
    "Taylor_Second_Closed_Form_2\n",
    "\n",
    "Taylor_Third = np.array([1., 0.5])\n",
    "Taylor_Third\n",
    "Taylor_Third_sklearn = np.dot(Taylor_X,Taylor_Third)\n",
    "Taylor_Third_sklearn\n",
    "min(Taylor_Third_sklearn)"
   ]
  },
  {
   "cell_type": "code",
   "execution_count": 30,
   "metadata": {},
   "outputs": [
    {
     "data": {
      "text/plain": [
       "array([1.12341371, 1.18999576, 1.29069286, ..., 1.39907909, 1.47080464,\n",
       "       1.38431701])"
      ]
     },
     "execution_count": 30,
     "metadata": {},
     "output_type": "execute_result"
    }
   ],
   "source": [
    "Taylor_Fourth = np.array([0.54956398, 0.97344814])\n",
    "\n",
    "Taylor_Fourth_GD = np.dot(Taylor_X, Taylor_Fourth)\n",
    "Taylor_Fourth_GD"
   ]
  },
  {
   "cell_type": "markdown",
   "metadata": {},
   "source": [
    "### Taylor's e)"
   ]
  },
  {
   "cell_type": "code",
   "execution_count": 31,
   "metadata": {},
   "outputs": [
    {
     "data": {
      "image/png": "[encoded data removed]",
      "text/plain": [
       "<Figure size 432x288 with 1 Axes>"
      ]
     },
     "metadata": {
      "needs_background": "light"
     },
     "output_type": "display_data"
    }
   ],
   "source": [
    "plt.plot(Taylor_x_train, Taylor_First_Closed_Form)\n",
    "plt.plot(Taylor_x_train, Taylor_Second_Closed_Form_2)\n",
    "plt.plot(Taylor_x_train, Taylor_Third_sklearn)\n",
    "plt.plot(Taylor_x_train, Taylor_Fourth_GD);"
   ]
  },
  {
   "cell_type": "markdown",
   "metadata": {},
   "source": [
    "In case of sqrt(1+x) function approximation we performed linear regression using 3 (statsmodel library not included) models: \n",
    "\n",
    "1. Closed form solution (also via statsmodel library), \n",
    "2. Used \"sklear\" library\n",
    "3. Implemented the Gradient Descent from scratch.\n",
    "\n",
    "For the 1. and 2. we got the same w0 and w1 weights:  w0 = 1.01298317, w1 = 0.41196442, for the third one we got the following results: w0 = 0.9878848, w1 = 0.45873713 (*)\n",
    "\n",
    "As we know that the First degree Taylor's approximation of the function sqrt(1+x) = 1 + (1/2)*x.\n",
    "Let's see what we have in case of this approximation:\n",
    "\n",
    "For 1. and 2. cases the w0 and w1 are w0 = 1. , w1 = 0.5. But in case of the GD we have w0 = 0.97344814, w1 = 0.54956398 which is quiet closer to the previous 3. result (*). And previous 1., 2. results are closer to the Taylor's case 1. and 2. results. "
   ]
  },
  {
   "cell_type": "code",
   "execution_count": null,
   "metadata": {},
   "outputs": [],
   "source": []
  }
 ],
 "metadata": {
  "kernelspec": {
   "display_name": "Python 3.7.4 64-bit ('base': conda)",
   "language": "python",
   "name": "python37464bitbaseconda3eef230582e84ea2ab2fabf2bc443ec5"
  },
  "language_info": {
   "codemirror_mode": {
    "name": "ipython",
    "version": 3
   },
   "file_extension": ".py",
   "mimetype": "text/x-python",
   "name": "python",
   "nbconvert_exporter": "python",
   "pygments_lexer": "ipython3",
   "version": "3.7.4"
  }
 },
 "nbformat": 4,
 "nbformat_minor": 2
}
